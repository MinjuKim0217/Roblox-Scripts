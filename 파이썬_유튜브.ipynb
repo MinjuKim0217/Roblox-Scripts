{
  "nbformat": 4,
  "nbformat_minor": 0,
  "metadata": {
    "colab": {
      "name": "파이썬_유튜브.ipynb",
      "provenance": [],
      "authorship_tag": "ABX9TyMjMp+UHVe5HE6xYTzxhD4q",
      "include_colab_link": true
    },
    "kernelspec": {
      "name": "python3",
      "display_name": "Python 3"
    },
    "language_info": {
      "name": "python"
    }
  },
  "cells": [
    {
      "cell_type": "markdown",
      "metadata": {
        "id": "view-in-github",
        "colab_type": "text"
      },
      "source": [
        "<a href=\"https://colab.research.google.com/github/MinjuKim0217/Roblox-Scripts/blob/main/%ED%8C%8C%EC%9D%B4%EC%8D%AC_%EC%9C%A0%ED%8A%9C%EB%B8%8C.ipynb\" target=\"_parent\"><img src=\"https://colab.research.google.com/assets/colab-badge.svg\" alt=\"Open In Colab\"/></a>"
      ]
    },
    {
      "cell_type": "markdown",
      "source": [
        "https://vincinotes.com/%ed%8c%8c%ec%9d%b4%ec%8d%ac-pytube%eb%a1%9c-%ec%9c%a0%ed%8a%9c%eb%b8%8c-%ec%98%81%ec%83%81%ea%b3%bc-%ec%9d%8c%ec%9b%90-%ec%b6%94%ec%b6%9c%ed%95%98%ea%b8%b0/"
      ],
      "metadata": {
        "id": "z3nLh7wJGR0g"
      }
    },
    {
      "cell_type": "code",
      "execution_count": 1,
      "metadata": {
        "colab": {
          "base_uri": "https://localhost:8080/"
        },
        "id": "Ok22w4n6GLFC",
        "outputId": "debe10b7-9cd7-4c95-d1a0-8a7208f40023"
      },
      "outputs": [
        {
          "output_type": "stream",
          "name": "stdout",
          "text": [
            "Looking in indexes: https://pypi.org/simple, https://us-python.pkg.dev/colab-wheels/public/simple/\n",
            "Collecting pytube\n",
            "  Downloading pytube-12.1.0-py3-none-any.whl (56 kB)\n",
            "\u001b[K     |████████████████████████████████| 56 kB 1.5 MB/s \n",
            "\u001b[?25hInstalling collected packages: pytube\n",
            "Successfully installed pytube-12.1.0\n"
          ]
        }
      ],
      "source": [
        "pip install pytube"
      ]
    },
    {
      "cell_type": "markdown",
      "source": [
        "## 단일영상 / 음원 다운로드"
      ],
      "metadata": {
        "id": "ig_wchZmGVBD"
      }
    },
    {
      "cell_type": "code",
      "source": [
        "from pytube import YouTube\n",
        " \n",
        "yt = YouTube('http://youtube.com/watch?v=2lAe1cqCOXo')\n",
        " \n",
        "stream_video = yt.streams.get_by_itag(137)\n",
        " \n",
        "stream_audio = yt.streams.get_by_itag(140)\n",
        " "
      ],
      "metadata": {
        "id": "_h1Nv2LqGT-1"
      },
      "execution_count": 3,
      "outputs": []
    },
    {
      "cell_type": "markdown",
      "source": [
        "5와 7의 스트림 설정은 아래에서 좀 더 자세히 다루겠습니다. 추출된 mp4 파일을 mp3로 변환해 본 결과 용량이 감소하는 등의 장점이 없어 확장자가 상관 없다면 그냥 사용하는 게 좋을 것 같습니다.\n",
        "\n",
        "\n",
        "1 – pytube 라이브러리의 YouTube 포함.\n",
        "\n",
        "3 – 유튜브 영상 주소 입력.\n",
        "\n",
        "5 – 1080p 비디오로 다운로드 설정.\n",
        "\n",
        "7 – 128kbps 음원으로 다운로드 설정.\n",
        "\n",
        "9 – 영상을 추출하는 함수.\n"
      ],
      "metadata": {
        "id": "2YoW-9eNGek7"
      }
    },
    {
      "cell_type": "markdown",
      "source": [
        "## 플레이리스트 영상/ 음원 다운로드"
      ],
      "metadata": {
        "id": "P2moDHdgGhEa"
      }
    },
    {
      "cell_type": "code",
      "source": [
        "from pytube import Playlist\n",
        " \n",
        "p = Playlist('https://www.youtube.com/playlist?list=PLGMZUF-vdRXIpSEwjXVMreGikO0RoTnWm')\n",
        " \n",
        "for video in p.videos:\n",
        "    video.streams.get_by_itag(140).download()"
      ],
      "metadata": {
        "id": "d3gmogrQGZZ7"
      },
      "execution_count": 5,
      "outputs": []
    },
    {
      "cell_type": "markdown",
      "source": [
        "1 – pytube 라이브러리의 Playlist 포함.\n",
        "\n",
        "3 – 플레이리스트 주소 입력.\n",
        "\n",
        "5:6 – 리스트의 영상을 128kbps 음원으로 추출."
      ],
      "metadata": {
        "id": "cvEA_b4UHPxd"
      }
    },
    {
      "cell_type": "markdown",
      "source": [
        "## 채널 영상/음원 다운로드 "
      ],
      "metadata": {
        "id": "K8WGk4T_HRvv"
      }
    },
    {
      "cell_type": "code",
      "source": [
        "\n",
        "from pytube import Channel\n",
        " \n",
        "c = Channel('https://www.youtube.com/c/%ED%96%89%EC%84%B1')\n",
        " \n",
        "for video in c.videos:\n",
        "    video.streams.get_by_itag(140).download()"
      ],
      "metadata": {
        "id": "qWQBdMglGmZP"
      },
      "execution_count": null,
      "outputs": []
    },
    {
      "cell_type": "markdown",
      "source": [
        "1 – pytube 라이브러리의 Channel 포함.\n",
        "\n",
        "3 – 채널의 주소 입력.\n",
        "\n",
        "5:6 – 채널의 영상을 128kbps 음원으로 추출."
      ],
      "metadata": {
        "id": "gEtbFeItH0yE"
      }
    },
    {
      "cell_type": "markdown",
      "source": [
        "## 예외처리"
      ],
      "metadata": {
        "id": "et3ev1D3Hfxt"
      }
    },
    {
      "cell_type": "code",
      "source": [
        "from pytube import Playlist, YouTube\n",
        " \n",
        "playlist_url = 'https://www.youtube.com/playlist?list=PLGMZUF-vdRXIpSEwjXVMreGikO0RoTnWm'\n",
        " \n",
        "p = Playlist(playlist_url)\n",
        " \n",
        "downloade_count = 0\n",
        " \n",
        "for url in p.video_urls:\n",
        "    try:\n",
        "        yt = YouTube(url)\n",
        "    except:\n",
        "        print(f'Video {url} is unavaialable, skipping.')\n",
        "    else:\n",
        "        print(f'Downloading video: {url}')\n",
        "        yt.streams.first().download()\n",
        "    finally:\n",
        "        downloade_count += 1\n",
        "        print(f'Downloading Process: {downloade_count}/{p.length}')\n"
      ],
      "metadata": {
        "id": "FSuIdQ9yHYfQ"
      },
      "execution_count": null,
      "outputs": []
    },
    {
      "cell_type": "markdown",
      "source": [
        "예외처리를 하면 여러 영상/음원을 다운로드하는 중에 오류가 발생해도 그 부분만 건너뛰고 나머지를 받을 수 있습니다. try는 실행 될 코드, except는 오류 발생 시, else는 오류가 발생하지 않았을 때, finally는 오류와 상관없이 무조건 실행됩니다.\n",
        "\n",
        "7 – 다운로드 횟수를 표시할 때 사용.\n",
        "\n",
        "10:11 – 실행되는 코드 부분.\n",
        "\n",
        "12:13 – 11의 코드에서 오류가 발생하면 메시지 띄우고 PASS.\n",
        "\n",
        "14:16 – 오류가 발생하지 않았다면 다운로드 실행.\n",
        "\n",
        "17:19 – 오류 발생과 상관없이 몇 번째 다운로드인지 표시."
      ],
      "metadata": {
        "id": "uuWFbowuHwCY"
      }
    },
    {
      "cell_type": "code",
      "source": [
        ""
      ],
      "metadata": {
        "id": "BFrZWdzqHsoC"
      },
      "execution_count": null,
      "outputs": []
    }
  ]
}