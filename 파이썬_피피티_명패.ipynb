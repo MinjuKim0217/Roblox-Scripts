{
  "nbformat": 4,
  "nbformat_minor": 0,
  "metadata": {
    "colab": {
      "name": "파이썬_피피티_명패.ipynb",
      "provenance": [],
      "authorship_tag": "ABX9TyPZVhPSqb7C973UEQJlvFbO",
      "include_colab_link": true
    },
    "kernelspec": {
      "name": "python3",
      "display_name": "Python 3"
    },
    "language_info": {
      "name": "python"
    }
  },
  "cells": [
    {
      "cell_type": "markdown",
      "metadata": {
        "id": "view-in-github",
        "colab_type": "text"
      },
      "source": [
        "<a href=\"https://colab.research.google.com/github/MinjuKim0217/Roblox-Scripts/blob/main/%ED%8C%8C%EC%9D%B4%EC%8D%AC_%ED%94%BC%ED%94%BC%ED%8B%B0_%EB%AA%85%ED%8C%A8.ipynb\" target=\"_parent\"><img src=\"https://colab.research.google.com/assets/colab-badge.svg\" alt=\"Open In Colab\"/></a>"
      ]
    },
    {
      "cell_type": "code",
      "source": [
        "pip install python_"
      ],
      "metadata": {
        "colab": {
          "base_uri": "https://localhost:8080/"
        },
        "id": "cxK-PphSLltr",
        "outputId": "a632988c-c2a3-4381-aa75-4ec654b7d110"
      },
      "execution_count": 3,
      "outputs": [
        {
          "output_type": "stream",
          "name": "stdout",
          "text": [
            "Looking in indexes: https://pypi.org/simple, https://us-python.pkg.dev/colab-wheels/public/simple/\n",
            "Collecting python-pptx\n",
            "  Downloading python-pptx-0.6.21.tar.gz (10.1 MB)\n",
            "\u001b[K     |████████████████████████████████| 10.1 MB 5.3 MB/s \n",
            "\u001b[?25hRequirement already satisfied: lxml>=3.1.0 in /usr/local/lib/python3.7/dist-packages (from python-pptx) (4.9.1)\n",
            "Requirement already satisfied: Pillow>=3.3.2 in /usr/local/lib/python3.7/dist-packages (from python-pptx) (7.1.2)\n",
            "Collecting XlsxWriter>=0.5.7\n",
            "  Downloading XlsxWriter-3.0.3-py3-none-any.whl (149 kB)\n",
            "\u001b[K     |████████████████████████████████| 149 kB 51.4 MB/s \n",
            "\u001b[?25hBuilding wheels for collected packages: python-pptx\n",
            "  Building wheel for python-pptx (setup.py) ... \u001b[?25l\u001b[?25hdone\n",
            "  Created wheel for python-pptx: filename=python_pptx-0.6.21-py3-none-any.whl size=470951 sha256=22dd58c55dc9cf192dde49cf8eb359147dc0a61086f33a8b15b69238d2286946\n",
            "  Stored in directory: /root/.cache/pip/wheels/a7/ab/f4/52560d0d4bd4055e9261c6df6e51c7b56c2b23cca3dee811a3\n",
            "Successfully built python-pptx\n",
            "Installing collected packages: XlsxWriter, python-pptx\n",
            "Successfully installed XlsxWriter-3.0.3 python-pptx-0.6.21\n"
          ]
        }
      ]
    },
    {
      "cell_type": "code",
      "source": [
        "# 필요한 라이브러리 불러오기\n",
        "from pptx import Presentation\n",
        "from pptx.enum.text import PP_ALIGN   # 정렬 설정하기\n",
        "from pptx.util import Pt      # Pt 폰트사이즈"
      ],
      "metadata": {
        "id": "GP2k5y0zLp1T"
      },
      "execution_count": 7,
      "outputs": []
    },
    {
      "cell_type": "code",
      "source": [
        "# pptx 파일 열기\n",
        "pptx_fpath = './명패포맷.pptx'\n",
        "prs = Presentation(pptx_fpath)\n",
        "\n",
        "# 슬라이드 지정하기\n",
        "slide_num = 0\n",
        "slide = prs.slides[slide_num]"
      ],
      "metadata": {
        "id": "cO91xcPnNIA6"
      },
      "execution_count": 8,
      "outputs": []
    },
    {
      "cell_type": "code",
      "source": [
        "# 슬라이드 내 shape 사전 만들기\n",
        "shapes_list = slide.shapes\n",
        "shape_index = {}\n",
        "for i, shape in enumerate(shapes_list):\n",
        "    shape_index[ shape.name ] = i\n",
        "print(shape_index)   # {'Box_down': 0, 'Box_up': 1, 'name2': 2, 'name1': 3}"
      ],
      "metadata": {
        "colab": {
          "base_uri": "https://localhost:8080/"
        },
        "id": "BoY0UaU0NJkZ",
        "outputId": "328fa35e-9565-4892-c51f-6addb51277fb"
      },
      "execution_count": 9,
      "outputs": [
        {
          "output_type": "stream",
          "name": "stdout",
          "text": [
            "{'Box_down': 0, 'Box_up': 1, 'name2': 2, 'name1': 3}\n"
          ]
        }
      ]
    },
    {
      "cell_type": "code",
      "source": [
        "def text_on_shape(shape, input_text, font_size = 95, bold = True):\n",
        "\n",
        "    # shape 내 텍스트 프레임 선택하기 & 기존 값 삭제하기\n",
        "    text_frame = shape.text_frame\n",
        "    text_frame.clear()\n",
        "\n",
        "    # 문단 선택하기\n",
        "    p = text_frame.paragraphs[0]\n",
        "\n",
        "    # 정렬 설정 : 중간정렬\n",
        "    p.alighnment = PP_ALIGN.CENTER   \n",
        "\n",
        "    # 텍스트 입력 / 폰트 지정\n",
        "    run = p.add_run()\n",
        "    run.text = input_text\n",
        "    font = run.font\n",
        "    font.size = Pt(font_size)\n",
        "    font.bold = bold\n",
        "    font.name = None  # 지정하지 않으면 기본 글씨체로  #  'Arial'"
      ],
      "metadata": {
        "id": "ubNWYfUHNMNU"
      },
      "execution_count": 10,
      "outputs": []
    },
    {
      "cell_type": "code",
      "source": [
        "# 하나의 shape 선택하기\n",
        "shape_name = 'name1'\n",
        "shape_select = shapes_list[ shape_index[ shape_name ]]    \n",
        "\n",
        "text_on_shape(shape_select, '홍길동')"
      ],
      "metadata": {
        "id": "l-8jtO_UNOCt"
      },
      "execution_count": 16,
      "outputs": []
    },
    {
      "cell_type": "code",
      "source": [
        "shape_name = 'name2'\n",
        "shape_select = shapes_list[ shape_index[ shape_name ]]    \n",
        "\n",
        "text_on_shape(shape_select, '홍길동')"
      ],
      "metadata": {
        "id": "wS8tJHsrNvqW"
      },
      "execution_count": 17,
      "outputs": []
    },
    {
      "cell_type": "code",
      "source": [
        "save_file = './홍길동.pptx'\n",
        "prs.save(save_file)"
      ],
      "metadata": {
        "id": "SrDM3bl-NPkv"
      },
      "execution_count": 18,
      "outputs": []
    },
    {
      "cell_type": "code",
      "source": [
        ""
      ],
      "metadata": {
        "id": "DdoWnBHONQ5Z"
      },
      "execution_count": null,
      "outputs": []
    }
  ]
}