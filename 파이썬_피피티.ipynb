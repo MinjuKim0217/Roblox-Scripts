{
  "nbformat": 4,
  "nbformat_minor": 0,
  "metadata": {
    "colab": {
      "name": "파이썬_피피티.ipynb",
      "provenance": [],
      "authorship_tag": "ABX9TyMPPZRLqXTqrChgbEP9qusH",
      "include_colab_link": true
    },
    "kernelspec": {
      "name": "python3",
      "display_name": "Python 3"
    },
    "language_info": {
      "name": "python"
    }
  },
  "cells": [
    {
      "cell_type": "markdown",
      "metadata": {
        "id": "view-in-github",
        "colab_type": "text"
      },
      "source": [
        "<a href=\"https://colab.research.google.com/github/MinjuKim0217/Roblox-Scripts/blob/main/%ED%8C%8C%EC%9D%B4%EC%8D%AC_%ED%94%BC%ED%94%BC%ED%8B%B0.ipynb\" target=\"_parent\"><img src=\"https://colab.research.google.com/assets/colab-badge.svg\" alt=\"Open In Colab\"/></a>"
      ]
    },
    {
      "cell_type": "markdown",
      "source": [
        "https://vincinotes.com/%ED%8C%8C%EC%9D%B4%EC%8D%AC-%ED%8C%8C%EC%9B%8C%ED%8F%AC%EC%9D%B8%ED%8A%B8-%EC%9E%90%EB%8F%99%ED%99%94-python-pptx-%EB%A7%8C%EB%93%A4%EA%B8%B0/\n",
        "\n",
        "이미지 크롤링, 파워포인트 생성, 리사이즈, 용량감소(tinyPNG), 자동 포스팅 등 다른 기능과 연동해 완전 자동화 가능.\n",
        "\n",
        "\n",
        "반복 작업의 시간을 단축하고, 정확도가 높아짐."
      ],
      "metadata": {
        "id": "T5GRzt0lFawc"
      }
    },
    {
      "cell_type": "code",
      "execution_count": 9,
      "metadata": {
        "colab": {
          "base_uri": "https://localhost:8080/"
        },
        "id": "68WrnHsBCt0-",
        "outputId": "b2eabb75-2ea9-4bc9-dafb-b783f41f20a9"
      },
      "outputs": [
        {
          "output_type": "stream",
          "name": "stdout",
          "text": [
            "Looking in indexes: https://pypi.org/simple, https://us-python.pkg.dev/colab-wheels/public/simple/\n",
            "Collecting python-pptx\n",
            "  Downloading python-pptx-0.6.21.tar.gz (10.1 MB)\n",
            "\u001b[K     |████████████████████████████████| 10.1 MB 26.0 MB/s \n",
            "\u001b[?25hRequirement already satisfied: lxml>=3.1.0 in /usr/local/lib/python3.7/dist-packages (from python-pptx) (4.9.1)\n",
            "Requirement already satisfied: Pillow>=3.3.2 in /usr/local/lib/python3.7/dist-packages (from python-pptx) (7.1.2)\n",
            "Collecting XlsxWriter>=0.5.7\n",
            "  Downloading XlsxWriter-3.0.3-py3-none-any.whl (149 kB)\n",
            "\u001b[K     |████████████████████████████████| 149 kB 65.1 MB/s \n",
            "\u001b[?25hBuilding wheels for collected packages: python-pptx\n",
            "  Building wheel for python-pptx (setup.py) ... \u001b[?25l\u001b[?25hdone\n",
            "  Created wheel for python-pptx: filename=python_pptx-0.6.21-py3-none-any.whl size=470951 sha256=1f4f6f327efe163ce72bffc261f573f806adcc629d18493322368f2c94839756\n",
            "  Stored in directory: /root/.cache/pip/wheels/a7/ab/f4/52560d0d4bd4055e9261c6df6e51c7b56c2b23cca3dee811a3\n",
            "Successfully built python-pptx\n",
            "Installing collected packages: XlsxWriter, python-pptx\n",
            "Successfully installed XlsxWriter-3.0.3 python-pptx-0.6.21\n"
          ]
        }
      ],
      "source": [
        "!pip install python-pptx\n"
      ]
    },
    {
      "cell_type": "code",
      "source": [
        "from pptx import Presentation\n",
        " \n",
        "prs = Presentation()\n",
        " \n",
        "slide_layout = prs.slide_layouts[0]\n",
        "slide = prs.slides.add_slide(slide_layout)\n",
        " \n",
        "title = slide.shapes.title\n",
        "subtitle = slide.placeholders[1]\n",
        " \n",
        "title.text = \"Hello, World\"\n",
        "subtitle.text = \"python-pptx was here!\"\n",
        " \n",
        "prs.save('test.ppt')"
      ],
      "metadata": {
        "id": "LRexq_OVCvY3"
      },
      "execution_count": 11,
      "outputs": []
    },
    {
      "cell_type": "markdown",
      "source": [
        "## 파이썬으로 레이아웃 만들기\n",
        "\n",
        "1 – pptx 라이브러리 포함.\n",
        "\n",
        "3 – 파워포인트 객체 선언.\n",
        "\n",
        "5:6 – [0]번은 제목과 부제목이 있는 슬라이드, [6]은 빈 슬라이드.\n",
        "\n",
        "8:9 – 제목과 부제목에 텍스트 입력.\n",
        "\n",
        "9 – PPT를 해당 폴더에 저장."
      ],
      "metadata": {
        "id": "QCRleme0FgxX"
      }
    },
    {
      "cell_type": "code",
      "source": [
        "from pptx import Presentation\n",
        "from pptx.enum.shapes import MSO_SHAPE\n",
        "from pptx.util import Inches\n",
        "from pptx.dml.color import RGBColor\n",
        " \n",
        "prs = Presentation()\n",
        " \n",
        "slide_layout = prs.slide_layouts[6]\n",
        "slide = prs.slides.add_slide(slide_layout)\n",
        " \n",
        "shapes = slide.shapes\n",
        "left = top = Inches(1)\n",
        "width = Inches(8)\n",
        "height = Inches(5.5)\n",
        "shape = shapes.add_shape(MSO_SHAPE.RECTANGLE, left, top, width, height)\n",
        " \n",
        "fill = shape.fill\n",
        "fill.solid()\n",
        "# fill.patterned()\n",
        "fill.fore_color.rgb = RGBColor(38, 50, 70)\n",
        " \n",
        "line = shape.line\n",
        "line.color.rgb = RGBColor(38, 50, 70)\n",
        " \n",
        "shadow = shape.shadow\n",
        "shadow.inherit = False\n",
        " \n",
        "prs.save('test.pptx')"
      ],
      "metadata": {
        "id": "8ZP_ruiIDARS"
      },
      "execution_count": 13,
      "outputs": []
    },
    {
      "cell_type": "markdown",
      "source": [
        ""
      ],
      "metadata": {
        "id": "zQKxzy_yFzX5"
      }
    },
    {
      "cell_type": "markdown",
      "source": [
        "## 파이썬으로 도형 만들기 \n",
        "2 – PPT에 도형 삽입 시 사용.\n",
        "\n",
        "3 – 도형의 크기, 여백 길이 지정 시 사용.\n",
        "\n",
        "4 – 도형의 색을 RGB로 넣을 때 사용.\n",
        "\n",
        "11:15 – 직사각형 도형의 여백, 크기 설정.\n",
        "\n",
        "17:20 – 도형의 채우기 설정.\n",
        "\n",
        "22:23 – 도형의 외곽선 설정.\n",
        "\n",
        "25:26 – 기본으로 적용돼 있는 그림자 효과 제거."
      ],
      "metadata": {
        "id": "Pn4MPuUiFnTv"
      }
    },
    {
      "cell_type": "code",
      "source": [
        "from pptx import Presentation\n",
        "from pptx.util import Inches, Pt\n",
        "from pptx.dml.color import RGBColor\n",
        " \n",
        "prs = Presentation()\n",
        " \n",
        "slide_layout = prs.slide_layouts[6]\n",
        "slide = prs.slides.add_slide(slide_layout)\n",
        " \n",
        "left = width = height = top = Inches(1.5)\n",
        "txBox = slide.shapes.add_textbox(left, top, width, height)\n",
        "tf = txBox.text_frame\n",
        " \n",
        "p = tf.add_paragraph()\n",
        "p.text = \"안녕하세요.\\n43포인트 글씨입니다\"\n",
        "p.font.size = Pt(43)\n",
        "p.font.name = '나눔스퀘어 Bold'\n",
        "p.font.color.rgb = RGBColor(0, 0, 0)\n",
        " \n",
        "p = tf.add_paragraph()\n",
        "p.text = \" \\n이것은 20포인트 글씨입니다.\"\n",
        "p.font.size = Pt(20)\n",
        "p.font.name = '맑은 고딕'\n",
        "p.font.color.rgb = RGBColor(122, 122, 122)\n",
        "p.font.bold = True\n",
        " \n",
        "prs.save('test.pptx')\n"
      ],
      "metadata": {
        "id": "yabIM6ASDD3s"
      },
      "execution_count": 14,
      "outputs": []
    },
    {
      "cell_type": "markdown",
      "source": [
        "## 파이썬으로 글상자 만들기\n",
        "\n",
        "2 – Pt는 글자의 크기 지정 시 사용.\n",
        "\n",
        "11:15 – 텍스트 박스의 여백, 크기 설정.\n",
        "\n",
        "14:18 – 박스 안의 글자 크기, 폰트, 색 설정.\n",
        "\n",
        "22:23 – 새로운 add_paragraph 함수 사용 시 설정이 초기화됨."
      ],
      "metadata": {
        "id": "XvIIOnynF0wj"
      }
    },
    {
      "cell_type": "code",
      "source": [
        "from pptx import Presentation\n",
        "from pptx.util import Inches\n",
        " \n",
        "prs = Presentation()\n",
        " \n",
        "slide_layout = prs.slide_layouts[6]\n",
        "slide = prs.slides.add_slide(slide_layout)\n",
        " \n",
        "img_path = '/content/0.png'\n",
        " \n",
        "top = Inches(0.75)\n",
        "left = Inches(0.5)\n",
        "height = Inches(6)\n",
        "pic = slide.shapes.add_picture(img_path, left, top, height=height)\n",
        " \n",
        "prs.save('test.pptx')"
      ],
      "metadata": {
        "id": "HlwD4nVVE71t"
      },
      "execution_count": 16,
      "outputs": []
    },
    {
      "cell_type": "markdown",
      "source": [
        "## 파이썬으로 이미지 만들기\n",
        "\n",
        "9 – 삽입할 이미지의 경로 설정.\n",
        "\n",
        "\n",
        "11:14 – 이미지의 여백과 높이를 설정."
      ],
      "metadata": {
        "id": "J_ALrzcHF6RS"
      }
    },
    {
      "cell_type": "code",
      "source": [
        ""
      ],
      "metadata": {
        "id": "gByKxTlBFArs"
      },
      "execution_count": null,
      "outputs": []
    }
  ]
}